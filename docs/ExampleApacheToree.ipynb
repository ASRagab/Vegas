{
 "cells": [
  {
   "cell_type": "code",
   "execution_count": 1,
   "metadata": {
    "collapsed": false
   },
   "outputs": [
    {
     "name": "stdout",
     "output_type": "stream",
     "text": [
      "Starting download from file:../core/target/scala-2.10/vegas-assembly-0.1.0.jar\n",
      "Finished download of vegas-assembly-0.1.0.jar\n"
     ]
    },
    {
     "data": {
      "text/plain": [
       "Magic addJar failed to execute with error: \n",
       "package reflect does not have a member materializeClassTag"
      ]
     },
     "execution_count": 1,
     "metadata": {},
     "output_type": "execute_result"
    }
   ],
   "source": [
    "// %addJar file:../core/target/scala-2.11/vegas_2.11-0.1.0.jar\n",
    "\n",
    "%addJar file:../core/target/scala-2.10/vegas-assembly-0.1.0.jar -f"
   ]
  },
  {
   "cell_type": "code",
   "execution_count": null,
   "metadata": {
    "collapsed": false
   },
   "outputs": [],
   "source": [
    "import vegas._\n",
    "import vegas.render.StaticHTMLRenderer._\n",
    "\n",
    "implicit val displayer: String => Unit = { s => kernel.display.content(\"text/html\", s) }"
   ]
  },
  {
   "cell_type": "code",
   "execution_count": null,
   "metadata": {
    "collapsed": false
   },
   "outputs": [],
   "source": [
    " "
   ]
  },
  {
   "cell_type": "code",
   "execution_count": null,
   "metadata": {
    "collapsed": true
   },
   "outputs": [],
   "source": []
  }
 ],
 "metadata": {
  "kernelspec": {
   "display_name": "Toree - Scala",
   "language": "scala",
   "name": "toree_scala"
  },
  "language_info": {
   "name": "scala"
  }
 },
 "nbformat": 4,
 "nbformat_minor": 0
}
