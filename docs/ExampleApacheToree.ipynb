{
 "cells": [
  {
   "cell_type": "code",
   "execution_count": 1,
   "metadata": {
    "collapsed": false
   },
   "outputs": [
    {
     "name": "stdout",
     "output_type": "stream",
     "text": [
      "Marking com.github.aishfenton:vegas_2.11:0.2.0 for download\n",
      "Preparing to fetch from:\n",
      "-> file:/tmp/.ivy2/\n",
      "-> https://repo1.maven.org/maven2\n",
      "Download error: Caught java.lang.IllegalStateException: Already connected (Already connected)\n",
      "-> New file at /tmp/.ivy2/https/repo1.maven.org/maven2/com/github/julien-truffaut/monocle-macro_2.11/1.1.0/monocle-macro_2.11-1.1.0.jar\n",
      "-> New file at /tmp/.ivy2/https/repo1.maven.org/maven2/org/scala-lang/modules/scala-xml_2.11/1.0.2/scala-xml_2.11-1.0.2.jar\n",
      "-> New file at /tmp/.ivy2/https/repo1.maven.org/maven2/com/github/aishfenton/vegas_2.11/0.2.0/vegas_2.11-0.2.0.jar\n",
      "-> New file at /tmp/.ivy2/https/repo1.maven.org/maven2/org/scala-lang/modules/scala-parser-combinators_2.11/1.0.2/scala-parser-combinators_2.11-1.0.2.jar\n",
      "-> New file at /tmp/.ivy2/https/repo1.maven.org/maven2/com/github/julien-truffaut/monocle-core_2.11/1.1.0/monocle-core_2.11-1.1.0.jar\n",
      "-> New file at /tmp/.ivy2/https/repo1.maven.org/maven2/io/argonaut/argonaut_2.11/6.1/argonaut_2.11-6.1.jar\n",
      "-> New file at /tmp/.ivy2/https/repo1.maven.org/maven2/org/scalafx/scalafx_2.11/8.0.92-R10/scalafx_2.11-8.0.92-R10.jar\n"
     ]
    },
    {
     "data": {
      "text/plain": [
       "Magic AddDeps failed to execute with error: \n",
       "package reflect does not have a member materializeClassTag"
      ]
     },
     "execution_count": 1,
     "metadata": {},
     "output_type": "execute_result"
    }
   ],
   "source": [
    "%AddDeps com.github.aishfenton vegas_2.11 0.2.0 --transitive"
   ]
  },
  {
   "cell_type": "code",
   "execution_count": null,
   "metadata": {
    "collapsed": false
   },
   "outputs": [],
   "source": [
    "import vegas._\n",
    "import vegas.render.StaticHTMLRenderer._\n",
    "\n",
    "implicit val displayer: String => Unit = { s => kernel.display.content(\"text/html\", s) }"
   ]
  },
  {
   "cell_type": "code",
   "execution_count": null,
   "metadata": {
    "collapsed": false
   },
   "outputs": [],
   "source": [
    " Vegas(\"A simple bar chart with embedded data\").\n",
    "  withData(\n",
    "    Map(\"a\" -> \"A\", \"b\" -> 28), Map(\"a\" -> \"B\", \"b\" -> 55), Map(\"a\" -> \"C\", \"b\" -> 43), \n",
    "    Map(\"a\" -> \"D\", \"b\" -> 91), Map(\"a\" -> \"E\", \"b\" -> 81), Map(\"a\" -> \"F\", \"b\" -> 53), \n",
    "    Map(\"a\" -> \"G\", \"b\" -> 19), Map(\"a\" -> \"H\", \"b\" -> 87), Map(\"a\" -> \"I\", \"b\" -> 52)\n",
    "  ).\n",
    "  mark(Bar).\n",
    "  encodeX(\"a\", Ordinal).\n",
    "  encodeY(\"b\", Quantitative).\n",
    "  show"
   ]
  },
  {
   "cell_type": "code",
   "execution_count": null,
   "metadata": {
    "collapsed": true
   },
   "outputs": [],
   "source": []
  }
 ],
 "metadata": {
  "kernelspec": {
   "display_name": "Toree - Scala",
   "language": "scala",
   "name": "toree_scala"
  },
  "language_info": {
   "name": "scala"
  }
 },
 "nbformat": 4,
 "nbformat_minor": 0
}
