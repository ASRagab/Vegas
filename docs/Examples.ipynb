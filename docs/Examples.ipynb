{
 "cells": [
  {
   "cell_type": "code",
   "execution_count": 1,
   "metadata": {
    "collapsed": false
   },
   "outputs": [
    {
     "data": {
      "text/plain": []
     },
     "metadata": {},
     "output_type": "display_data"
    }
   ],
   "source": [
    "load.jar(\"../core/target/scala-2.11/vegas-assembly-0.1.0.jar\")\n",
    "\n",
    "// Normally use this, but we're using local jar for testing.\n",
    "// load.ivy(\"com.github.aishfenton\" %% \"vegas\" % \"0.1.0\")"
   ]
  },
  {
   "cell_type": "code",
   "execution_count": 2,
   "metadata": {
    "collapsed": false,
    "scrolled": true
   },
   "outputs": [
    {
     "data": {
      "text/plain": [
       "\u001b[32mimport \u001b[36mvegas._\u001b[0m\n",
       "\u001b[32mimport \u001b[36mvegas.render.StaticHTMLRenderer._\u001b[0m\n",
       "\u001b[36mdisplayer\u001b[0m: \u001b[32mString\u001b[0m => \u001b[32mUnit\u001b[0m = <function1>"
      ]
     },
     "metadata": {},
     "output_type": "display_data"
    }
   ],
   "source": [
    "import vegas._\n",
    "import vegas.render.StaticHTMLRenderer._\n",
    "\n",
    "implicit val displayer: String => Unit = display.html(_)"
   ]
  },
  {
   "cell_type": "code",
   "execution_count": 3,
   "metadata": {
    "collapsed": false,
    "scrolled": true
   },
   "outputs": [
    {
     "data": {
      "text/html": [
       "\n",
       "  <iframe id=\"frame-vegas-172e471a-6e8f-416b-8d09-c8e3c9e8a0fe\" sandbox=\"allow-scripts allow-same-origin\" style=\"border: none; width: 100%\" srcdoc=\"&lt;html&gt;\n",
       "  &lt;head&gt;\n",
       "    &lt;script src=&quot;//d3js.org/d3.v3.min.js&quot; charset=&quot;utf-8&quot;&gt;&lt;/script&gt;\n",
       "&lt;script src=&quot;//vega.github.io/vega/vega.js&quot; charset=&quot;utf-8&quot;&gt;&lt;/script&gt;\n",
       "&lt;script src=&quot;//vega.github.io/vega-lite/vega-lite.js&quot; charset=&quot;utf-8&quot;&gt;&lt;/script&gt;\n",
       "&lt;script src=&quot;//vega.github.io/vega-editor/vendor/vega-embed.js&quot; charset=&quot;utf-8&quot;&gt;&lt;/script&gt;\n",
       "  &lt;/head&gt;\n",
       "  &lt;body&gt;\n",
       " &lt;script&gt;\n",
       "   var embedSpec = {\n",
       "     mode: &quot;vega-lite&quot;,\n",
       "     spec: {&quot;description&quot;:&quot;A simple bar chart with embedded data&quot;,&quot;data&quot;:{&quot;values&quot;:[{&quot;a&quot;:&quot;A&quot;,&quot;b&quot;:&quot;28&quot;},{&quot;a&quot;:&quot;B&quot;,&quot;b&quot;:&quot;55&quot;},{&quot;a&quot;:&quot;C&quot;,&quot;b&quot;:&quot;43&quot;},{&quot;a&quot;:&quot;D&quot;,&quot;b&quot;:&quot;91&quot;},{&quot;a&quot;:&quot;E&quot;,&quot;b&quot;:&quot;81&quot;},{&quot;a&quot;:&quot;F&quot;,&quot;b&quot;:&quot;53&quot;},{&quot;a&quot;:&quot;G&quot;,&quot;b&quot;:&quot;19&quot;},{&quot;a&quot;:&quot;H&quot;,&quot;b&quot;:&quot;87&quot;},{&quot;a&quot;:&quot;I&quot;,&quot;b&quot;:&quot;52&quot;}]},&quot;encoding&quot;:{&quot;x&quot;:{&quot;field&quot;:&quot;a&quot;,&quot;type&quot;:&quot;ordinal&quot;},&quot;y&quot;:{&quot;field&quot;:&quot;b&quot;,&quot;type&quot;:&quot;quantitative&quot;}},&quot;mark&quot;:&quot;bar&quot;}\n",
       "   }\n",
       "   vg.embed(&quot;#vegas-172e471a-6e8f-416b-8d09-c8e3c9e8a0fe&quot;, embedSpec, function(error, result) {});\n",
       " &lt;/script&gt;\n",
       " &lt;div id='vegas-172e471a-6e8f-416b-8d09-c8e3c9e8a0fe'&gt;&lt;/div&gt;\n",
       "    &lt;/body&gt;\n",
       "&lt;/html&gt;\"></iframe>\n",
       "  <script>\n",
       "    if (typeof resizeIFrame != 'function') {\n",
       "      function resizeIFrame(el, k) {\n",
       "        el.style.height = el.contentWindow.document.body.scrollHeight + 'px';\n",
       "        if (k <= 3) { setTimeout(function() { resizeIFrame(el, k+1) }, 1000) };\n",
       "      }\n",
       "    }\n",
       "    $().ready( function() { resizeIFrame($('#frame-vegas-172e471a-6e8f-416b-8d09-c8e3c9e8a0fe').get(0), 1); });\n",
       "  </script>\n",
       "    "
      ]
     },
     "metadata": {},
     "output_type": "display_data"
    },
    {
     "data": {
      "text/plain": []
     },
     "metadata": {},
     "output_type": "display_data"
    }
   ],
   "source": [
    "Vegas(\"A simple bar chart with embedded data\").\n",
    "  withData(\n",
    "    Map(\"a\" -> \"A\", \"b\" -> 28), Map(\"a\" -> \"B\", \"b\" -> 55), Map(\"a\" -> \"C\", \"b\" -> 43), \n",
    "    Map(\"a\" -> \"D\", \"b\" -> 91), Map(\"a\" -> \"E\", \"b\" -> 81), Map(\"a\" -> \"F\", \"b\" -> 53), \n",
    "    Map(\"a\" -> \"G\", \"b\" -> 19), Map(\"a\" -> \"H\", \"b\" -> 87), Map(\"a\" -> \"I\", \"b\" -> 52)\n",
    "  ).\n",
    "  mark(Bar).\n",
    "  encodeX(\"a\", Ordinal).\n",
    "  encodeY(\"b\", Quantitative).\n",
    "  show"
   ]
  },
  {
   "cell_type": "code",
   "execution_count": 7,
   "metadata": {
    "collapsed": false
   },
   "outputs": [
    {
     "data": {
      "text/html": [
       "\n",
       "  <iframe id=\"frame-vegas-b2aa13ce-4508-448f-874f-3fd08eeb7d99\" sandbox=\"allow-scripts allow-same-origin\" style=\"border: none; width: 100%\" srcdoc=\"&lt;html&gt;\n",
       "  &lt;head&gt;\n",
       "    &lt;script src=&quot;//d3js.org/d3.v3.min.js&quot; charset=&quot;utf-8&quot;&gt;&lt;/script&gt;\n",
       "&lt;script src=&quot;//vega.github.io/vega/vega.js&quot; charset=&quot;utf-8&quot;&gt;&lt;/script&gt;\n",
       "&lt;script src=&quot;//vega.github.io/vega-lite/vega-lite.js&quot; charset=&quot;utf-8&quot;&gt;&lt;/script&gt;\n",
       "&lt;script src=&quot;//vega.github.io/vega-editor/vendor/vega-embed.js&quot; charset=&quot;utf-8&quot;&gt;&lt;/script&gt;\n",
       "  &lt;/head&gt;\n",
       "  &lt;body&gt;\n",
       " &lt;script&gt;\n",
       "   var embedSpec = {\n",
       "     mode: &quot;vega-lite&quot;,\n",
       "     spec: {&quot;description&quot;:&quot;A bar chart showing the US population distribution of age groups in 2000.&quot;,&quot;data&quot;:{&quot;url&quot;:&quot;data/population.json&quot;,&quot;formatType&quot;:&quot;json&quot;},&quot;encoding&quot;:{&quot;x&quot;:{&quot;field&quot;:&quot;people&quot;,&quot;aggregate&quot;:&quot;sum&quot;,&quot;axis&quot;:{&quot;title&quot;:&quot;population&quot;},&quot;type&quot;:&quot;quantitative&quot;},&quot;y&quot;:{&quot;field&quot;:&quot;age&quot;,&quot;scale&quot;:{&quot;bandSize&quot;:17},&quot;type&quot;:&quot;ordinal&quot;}},&quot;mark&quot;:&quot;bar&quot;,&quot;transform&quot;:{&quot;filter&quot;:&quot;datum.year == 2000&quot;}}\n",
       "   }\n",
       "   vg.embed(&quot;#vegas-b2aa13ce-4508-448f-874f-3fd08eeb7d99&quot;, embedSpec, function(error, result) {});\n",
       " &lt;/script&gt;\n",
       " &lt;div id='vegas-b2aa13ce-4508-448f-874f-3fd08eeb7d99'&gt;&lt;/div&gt;\n",
       "    &lt;/body&gt;\n",
       "&lt;/html&gt;\"></iframe>\n",
       "  <script>\n",
       "    if (typeof resizeIFrame != 'function') {\n",
       "      function resizeIFrame(el, k) {\n",
       "        el.style.height = el.contentWindow.document.body.scrollHeight + 'px';\n",
       "        if (k <= 3) { setTimeout(function() { resizeIFrame(el, k+1) }, 1000) };\n",
       "      }\n",
       "    }\n",
       "    $().ready( function() { resizeIFrame($('#frame-vegas-b2aa13ce-4508-448f-874f-3fd08eeb7d99').get(0), 1); });\n",
       "  </script>\n",
       "    "
      ]
     },
     "metadata": {},
     "output_type": "display_data"
    },
    {
     "data": {
      "text/plain": []
     },
     "metadata": {},
     "output_type": "display_data"
    }
   ],
   "source": [
    "Vegas(\"A bar chart showing the US population distribution of age groups in 2000.\").\n",
    "  withData(\"data/population.json\", JSON).\n",
    "  transformFilter(\"datum.year == 2000\").\n",
    "  encodeY(\"age\", Ordinal).\n",
    "  encodeX(\"people\", Quantitative, Sum).\n",
    "  axisX(title = \"population\").\n",
    "  scaleY(bandSize=17).\n",
    "  mark(Bar).\n",
    "  show"
   ]
  },
  {
   "cell_type": "code",
   "execution_count": 12,
   "metadata": {
    "collapsed": false
   },
   "outputs": [
    {
     "data": {
      "text/html": [
       "\n",
       "  <iframe id=\"frame-vegas-d7fe39d1-f30b-4a11-8a9e-613b4544d12a\" sandbox=\"allow-scripts allow-same-origin\" style=\"border: none; width: 100%\" srcdoc=\"&lt;html&gt;\n",
       "  &lt;head&gt;\n",
       "    &lt;script src=&quot;//d3js.org/d3.v3.min.js&quot; charset=&quot;utf-8&quot;&gt;&lt;/script&gt;\n",
       "&lt;script src=&quot;//vega.github.io/vega/vega.js&quot; charset=&quot;utf-8&quot;&gt;&lt;/script&gt;\n",
       "&lt;script src=&quot;//vega.github.io/vega-lite/vega-lite.js&quot; charset=&quot;utf-8&quot;&gt;&lt;/script&gt;\n",
       "&lt;script src=&quot;//vega.github.io/vega-editor/vendor/vega-embed.js&quot; charset=&quot;utf-8&quot;&gt;&lt;/script&gt;\n",
       "  &lt;/head&gt;\n",
       "  &lt;body&gt;\n",
       " &lt;script&gt;\n",
       "   var embedSpec = {\n",
       "     mode: &quot;vega-lite&quot;,\n",
       "     spec: {&quot;description&quot;:&quot;&quot;,&quot;data&quot;:{&quot;url&quot;:&quot;data/population.json&quot;,&quot;formatType&quot;:&quot;json&quot;},&quot;encoding&quot;:{&quot;x&quot;:{&quot;field&quot;:&quot;gender&quot;,&quot;scale&quot;:{&quot;bandSize&quot;:6},&quot;axis&quot;:false,&quot;type&quot;:&quot;nominal&quot;},&quot;y&quot;:{&quot;field&quot;:&quot;people&quot;,&quot;aggregate&quot;:&quot;sum&quot;,&quot;axis&quot;:{&quot;title&quot;:&quot;population&quot;},&quot;type&quot;:&quot;quantitative&quot;},&quot;color&quot;:{&quot;field&quot;:&quot;gender&quot;,&quot;type&quot;:&quot;nominal&quot;},&quot;column&quot;:{&quot;field&quot;:&quot;age&quot;,&quot;type&quot;:&quot;ordinal&quot;}},&quot;mark&quot;:&quot;bar&quot;,&quot;transform&quot;:{&quot;calculate&quot;:[{&quot;field&quot;:&quot;gender&quot;,&quot;expr&quot;:&quot;datum.sex == 2 ? 'Female' : 'Male'&quot;}],&quot;filter&quot;:&quot;datum.year == 2000&quot;}}\n",
       "   }\n",
       "   vg.embed(&quot;#vegas-d7fe39d1-f30b-4a11-8a9e-613b4544d12a&quot;, embedSpec, function(error, result) {});\n",
       " &lt;/script&gt;\n",
       " &lt;div id='vegas-d7fe39d1-f30b-4a11-8a9e-613b4544d12a'&gt;&lt;/div&gt;\n",
       "    &lt;/body&gt;\n",
       "&lt;/html&gt;\"></iframe>\n",
       "  <script>\n",
       "    if (typeof resizeIFrame != 'function') {\n",
       "      function resizeIFrame(el, k) {\n",
       "        el.style.height = el.contentWindow.document.body.scrollHeight + 'px';\n",
       "        if (k <= 3) { setTimeout(function() { resizeIFrame(el, k+1) }, 1000) };\n",
       "      }\n",
       "    }\n",
       "    $().ready( function() { resizeIFrame($('#frame-vegas-d7fe39d1-f30b-4a11-8a9e-613b4544d12a').get(0), 1); });\n",
       "  </script>\n",
       "    "
      ]
     },
     "metadata": {},
     "output_type": "display_data"
    },
    {
     "data": {
      "text/plain": []
     },
     "metadata": {},
     "output_type": "display_data"
    }
   ],
   "source": [
    "Vegas().\n",
    "  withData(\"data/population.json\", JSON).\n",
    "  transformFilter(\"datum.year == 2000\").\n",
    "  addTransformCalculation(\"gender\", \"datum.sex == 2 ? 'Female' : 'Male'\").\n",
    "  encodeColumn(\"age\", Ordinal).\n",
    "  encodeX(\"gender\", Nominal).\n",
    "  axisX(remove = true).\n",
    "  scaleX(bandSize=6).\n",
    "  encodeY(\"people\", Quantitative, aggregate=Sum).\n",
    "  axisY(title = \"population\").\n",
    "  encodeColor(\"gender\", Nominal).\n",
    "  mark(Bar).\n",
    "  show\n"
   ]
  },
  {
   "cell_type": "code",
   "execution_count": null,
   "metadata": {
    "collapsed": false
   },
   "outputs": [],
   "source": []
  },
  {
   "cell_type": "code",
   "execution_count": null,
   "metadata": {
    "collapsed": false
   },
   "outputs": [],
   "source": []
  },
  {
   "cell_type": "code",
   "execution_count": null,
   "metadata": {
    "collapsed": true
   },
   "outputs": [],
   "source": []
  },
  {
   "cell_type": "code",
   "execution_count": null,
   "metadata": {
    "collapsed": true
   },
   "outputs": [],
   "source": []
  },
  {
   "cell_type": "code",
   "execution_count": null,
   "metadata": {
    "collapsed": true
   },
   "outputs": [],
   "source": []
  },
  {
   "cell_type": "code",
   "execution_count": null,
   "metadata": {
    "collapsed": true
   },
   "outputs": [],
   "source": []
  }
 ],
 "metadata": {
  "kernelspec": {
   "display_name": "Scala 2.11",
   "language": "scala211",
   "name": "scala211"
  },
  "language_info": {
   "codemirror_mode": "text/x-scala",
   "file_extension": ".scala",
   "mimetype": "text/x-scala",
   "name": "scala211",
   "pygments_lexer": "scala",
   "version": "2.11.6"
  }
 },
 "nbformat": 4,
 "nbformat_minor": 0
}
